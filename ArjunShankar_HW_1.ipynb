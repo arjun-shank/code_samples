{
  "nbformat": 4,
  "nbformat_minor": 0,
  "metadata": {
    "colab": {
      "name": "ArjunShankar_HW 1.ipynb",
      "private_outputs": true,
      "provenance": []
    },
    "kernelspec": {
      "name": "python3",
      "display_name": "Python 3"
    }
  },
  "cells": [
    {
      "cell_type": "markdown",
      "metadata": {
        "id": "qzaeo-fTzYn_"
      },
      "source": [
        "# Homework 1: Dealing with text\n",
        "The purpose of this homework is to calculate the grade-level of some text. \n",
        "\n",
        "One fun way to exercise your familiarity with Python is to process text. Let's do this by assessing the readablility of some text. Readability is often expressed in terms of grade level, e.g., This sentence is at a seventh grade reading level. For this assignment, you will write Python functions for calculating the readability grade level for files using two different measures.\n",
        "\n",
        "\n",
        "\n",
        "*   The Flesch-Kincaid Grade Level Formula estimates grade level using the average number of words per sentence and the average number of syllables per word:\n",
        "$\\hbox{F-K grade level} =  0.39*avgWordsPerSentence + 11.8 * avg SyllablesPerWord - 15.59$\n",
        "*   The SMOG (Simple Measure of Gobbledygook) Formula estimates grade level using the average number of complex words (i.e., words with three or more syllables) per sentence:\n",
        "$\\hbox{SMOG grade level} = 1.043*\\sqrt{30*avgComplexWordsPerSentence} + 3.1291$\n",
        "\n",
        "\n",
        "\n",
        "\n",
        "\n"
      ]
    },
    {
      "cell_type": "markdown",
      "metadata": {
        "id": "XZz5wMr12Lcz"
      },
      "source": [
        "## Part 1:\n",
        "\n",
        "Due to the complexity of the English language, identifying the ends of sentences and the number of syllables in a word can be tricky. To make these tasks manageable, we will make the following simplifications:\n",
        "\n",
        "* We will assume that any word that ends in a period, exclamation point, or question mark (ignoring trailing quotation marks) is the end of a sentence. For example, the following paragraph contains three sentence:\n",
        "\n",
        "    \n",
        "        What? He told me to \"Go away.\"\n",
        "        So, I left as soon as I could.\n",
        "\n",
        "* In general, we will assume that any sequence of consecutive vowels (including 'y') corresponds to a syllable. Thus, \"h**ea**v**y**\" has two syllables and \"**I**t**a**l**ia**n\" has three syllables. However, words whose last letter is an \"e\" are a special case. If the \"e\" is preceded by a vowel (e.g., \"tr**ee**\") or the letter \"l\" (e.g., \"wh**i**stl**e**\"), or if the \"e\" is the only vowel in the word (e.g., \"th**e**\"), then it counts as a syllable. Otherwise, the trailing \"e\" does not count as a syllable (e.g., \"sp**i**te\").\n",
        "\n",
        "> Define a function named `isEndOfSentence` that has a single word as input. The function should return `True` if the word ends in a period, exclamation point, or question mark (ignoring trailing quotation marks). For example, `isEndOfSentence(\"What?\")` should return `True`, while `isEndOfSentence(\"So,\")` should return `False`. *Hint:* to ignore trailing quotation marks, use the string `rstrip` method. For example, the following assignment will strip trailing quotation marks off of a word and save the resulting string in `stripped`:\n",
        "\n",
        "\n",
        "\n",
        "\n",
        "            stripped = word.rstrip(\"\\\"\\'\")\n",
        ">Define a function named countSyllables that has a single word as input. The function should return the number of syllables in that word (using the above rules for estimating syllables). For example, `countSyllables(\"people\")` should return 2, while `countSyllables(\"mezzanine\")` should return 3.\n",
        "\n"
      ]
    },
    {
      "cell_type": "code",
      "metadata": {
        "id": "Z4kgfTUS7aFs"
      },
      "source": [
        "def isEndOfSentence(word):\n",
        "    \"\"\"\n",
        "    This is a function which takes a variable line and returns if the word \n",
        "    is the last one in the sentence.\n",
        "    Attributes:\n",
        "        word (string): This is the input variable to the function\n",
        "    Output:\n",
        "        returns a bool if this is the last word in the sentence\n",
        "    \"\"\"\n",
        "    end_punct = ['.', '?', '!']\n",
        "    stripped = word.rstrip(\"\\\"\\'\")\n",
        "    return stripped[-1] in end_punct\n",
        "isEndOfSentence(\"What!\")"
      ],
      "execution_count": null,
      "outputs": []
    },
    {
      "cell_type": "code",
      "metadata": {
        "id": "uUWLsnbK7uTZ"
      },
      "source": [
        "print('The sentence \"What?\" should return True by the function isEndOfSentence')\n",
        "print('Testing \"What?\"', isEndOfSentence(\"What?\"))\n",
        "print()\n",
        "print('The sentence \"So,\" should return False by the function isEndOfSentence')\n",
        "print('Testing \"So,\"', isEndOfSentence(\"So,\"))"
      ],
      "execution_count": null,
      "outputs": []
    },
    {
      "cell_type": "code",
      "metadata": {
        "id": "gAjcUs68zS85"
      },
      "source": [
        "def countSyllables(word):\n",
        "    \"\"\"\n",
        "    This is a function which takes as input a word and returns a heuristic\n",
        "    estimate of the number of syllables in the word\n",
        "    Attributes:\n",
        "        word (string): This is the input variable to the function\n",
        "    Output:\n",
        "        This function returns an int which is the number of syllables\n",
        "    Question:\n",
        "        What if the word is invalid? What should you do?\n",
        "    \"\"\"\n",
        "    vowels = ['a', 'e', 'i', 'o', 'u', 'y']\n",
        "    nOs = 0\n",
        "    for letter in range(len(word)):\n",
        "      if word[letter] in vowels and word[letter - 1] not in vowels:\n",
        "        nOs += 1\n",
        "    if word[-1] == 'e' and word[-2] not in vowels and word[-2] != 'l' and nOs != 1:\n",
        "        nOs -= 1\n",
        "    return nOs"
      ],
      "execution_count": null,
      "outputs": []
    },
    {
      "cell_type": "code",
      "metadata": {
        "id": "G2ikANH53gJv"
      },
      "source": [
        "print('\"people\" should return two when you run countSyllables(\"people\")')\n",
        "print('Number of syllables is ', countSyllables(\"people\"))\n",
        "print()\n",
        "print('\"mezzanine\" should return three when you run countSyllables(\"mezzanine\")')\n",
        "print('Number of syllables is', countSyllables(\"mezzanine\"))"
      ],
      "execution_count": null,
      "outputs": []
    },
    {
      "cell_type": "markdown",
      "metadata": {
        "id": "pBcBKeUK-08y"
      },
      "source": [
        "Now definte your own function which counts the number of sentences in the document."
      ]
    },
    {
      "cell_type": "code",
      "metadata": {
        "id": "VGDabYYv-0XZ"
      },
      "source": [
        "def numberOfSentences(document):\r\n",
        "  nOS = 0\r\n",
        "  end_punct = ['.', '?', '!']\r\n",
        "  for character in range(len(document)):\r\n",
        "    if document[character] in end_punct and document[character + 1] not in end_punct:\r\n",
        "      nOS += 1\r\n",
        "  return nOS"
      ],
      "execution_count": null,
      "outputs": []
    },
    {
      "cell_type": "markdown",
      "metadata": {
        "id": "TXfMKbW3_CDE"
      },
      "source": [
        "Now define a function which calculates the number of words in a sentence."
      ]
    },
    {
      "cell_type": "code",
      "metadata": {
        "id": "xkAvJ82B_ANw"
      },
      "source": [
        "def numberOfWords(sentence):\r\n",
        "  nOW = len(sentence.split())\r\n",
        "  return nOW"
      ],
      "execution_count": null,
      "outputs": []
    },
    {
      "cell_type": "markdown",
      "metadata": {
        "id": "ZwwLP7rR_NIz"
      },
      "source": [
        "Now define a function which calculates the number of syllables in a sentence."
      ]
    },
    {
      "cell_type": "code",
      "metadata": {
        "id": "N2RXY2oe_XTY"
      },
      "source": [
        "def syllablesInSentence(sentence):\r\n",
        "  sIS = 0\r\n",
        "  for word in sentence.split():\r\n",
        "    sIS += countSyllables(word)\r\n",
        "  return sIS"
      ],
      "execution_count": null,
      "outputs": []
    },
    {
      "cell_type": "markdown",
      "metadata": {
        "id": "DxBgpoQ1_YO-"
      },
      "source": [
        "Finally, let's put it all together ..."
      ]
    },
    {
      "cell_type": "code",
      "metadata": {
        "id": "h1n3aNXc_cLv"
      },
      "source": [
        "document = \"\"\"\n",
        "We hold these truths to be self-evident, that all men are created equal, that \n",
        "they are endowed by their Creator with certain unalienable Rights, that among \n",
        "these are Life, Liberty and the pursuit of Happiness.--That to secure these \n",
        "rights, Governments are instituted among Men, deriving their just powers from \n",
        "the consent of the governed, --That whenever any Form of Government becomes \n",
        "destructive of these ends, it is the Right of the People to alter or to abolish \n",
        "it, and to institute new Government, laying its foundation on such principles \n",
        "and organizing its powers in such form, as to them shall seem most likely to \n",
        "effect their Safety and Happiness. Prudence, indeed, will dictate that \n",
        "Governments long established should not be changed for light and transient \n",
        "causes; and accordingly all experience hath shewn, that mankind are more \n",
        "disposed to suffer, while evils are sufferable, than to right themselves by \n",
        "abolishing the forms to which they are accustomed.\n",
        "\"\"\""
      ],
      "execution_count": null,
      "outputs": []
    },
    {
      "cell_type": "markdown",
      "metadata": {
        "id": "01IjL0iPAJFf"
      },
      "source": [
        "Calculate the answer yourself by hand. Now check your code."
      ]
    },
    {
      "cell_type": "code",
      "metadata": {
        "id": "KJI43df8AT8K"
      },
      "source": [
        "def fk_level(document):\n",
        "  avgWordsPerSentence = numberOfWords(document) / numberOfSentences(document)\n",
        "  avgSyllablesPerWord = syllablesInSentence(document) / numberOfWords(document)\n",
        "\n",
        "  fk_level = 0.39 * avgWordsPerSentence + 11.8 * avgSyllablesPerWord - 15.59\n",
        "  return fk_level\n",
        "\n",
        "def smog_level(document):\n",
        "  nOCW = 0\n",
        "  words = document.split()\n",
        "  for word in words:\n",
        "    if countSyllables(word) >=3:\n",
        "      nOCW += 1\n",
        "  avgComplexWordsPerSentence = nOCW / numberOfSentences(document)\n",
        "\n",
        "  smog_level = 1.043 * (30 * avgComplexWordsPerSentence)**0.5 + 3.1291\n",
        "  return smog_level"
      ],
      "execution_count": null,
      "outputs": []
    },
    {
      "cell_type": "code",
      "metadata": {
        "id": "C9f9xXVtgA6K"
      },
      "source": [
        ""
      ],
      "execution_count": null,
      "outputs": []
    },
    {
      "cell_type": "code",
      "metadata": {
        "id": "BzTKpgfsgKpT"
      },
      "source": [
        ""
      ],
      "execution_count": null,
      "outputs": []
    }
  ]
}
{
 "cells": [
  {
   "cell_type": "markdown",
   "metadata": {},
   "source": [
    "# Homework #11\n",
    "\n",
    "In all the exercises that follow, insert your code directly in this file and immediately after each question.\n",
    "\n",
    "\n",
    "1. To the extent possible, **always use variables** in your answers.\n",
    "1. When a question provides a value for you to use in computations, **first store it in a variable and from that point onwards write code that makes use of that variable**. This is a good practice in programming: it allows you to write code that (except for the first couple of lines) is independent from the specific values provided to you. That makes it easy to update those external values later on if they ever change without having to modify your code, which is always an error-prone thing to do!\n",
    "1. Remember this is a programming course. :-) This means that the answers to all questions are meant to be **done in code** as much as possible. E.g., when a question reads \"*count the number of times that ...*\" you should interpret it as \"***write code that*** *counts the number of times that ...*\". Use your best judgment and you will do fine. :-)\n",
    "\n",
    "**Remember**: there are many ways to solve any programming assignment. If you wrote code that follows the instructions, uses variables (to the extent possible) and is valid Python code, you are entitled to full credit."
   ]
  },
  {
   "cell_type": "markdown",
   "metadata": {},
   "source": [
    "## Question 0\n",
    "\n",
    "Double-click on this cell and enter:\n",
    "\n",
    "**Your name:** Arjun Shankar\n",
    "\n",
    "**Your netID:** as11598"
   ]
  },
  {
   "cell_type": "markdown",
   "metadata": {},
   "source": [
    "## About this assignment, the data it is based on and useful tips\n",
    "\n",
    "In this assignment, you will practice handling tabular data with tabel.\n",
    "\n",
    "Please note this final assignment is more \"realistic\" than the previous ones. It uses \"raw\" real-world data, as opposed to the example data we have (mostly) been working with over the last couple\n",
    "of sessions. Real-world data invariably contains missing values and other \"irregularities\" that we need to take into account. Furthermore, it is often formatted in the way that made sense to the people who produced the dataset -- and we need to adapt to it! :-) So, for these two reasons, it is perfectly natural for you to find this homework more challenging than the previous ones. Rest assured that all required techniques either were covered in class or are described in detail below.\n",
    "\n",
    "This assignment uses a cool dataset I extracted from the databases available at http://data.worldbank.org. You will find the dataset in the file hw11-worldbank-data.csv, which is posted (together with these instructions) on NYU Classes => 'Assignments'. As the filename indicates, the data is in the standard CSV format which you can read into tabel using its read_tabel() method.\n",
    "\n",
    "**The CSV file is structured in a way that is very common in datasets containing time series data. Please read this section carefully so that you understand how to process it:**\n",
    "\n",
    "1) Each line in the file contains a sequence of values for a particular time series (e.g., *Access to electricity (% of population)* or *Account ownership at a financial institution or with a mobile-money-service (% of population ages 15+)*) in a specific country. These values start at the 5th column of the dataset, which has the header *1960* and then progress from that year onwards all the way to *2018*.\n",
    "\n",
    "2) The first 5 columns in the dataset contain the *Country Name* and *Series Name*. Together, they tell you exactly what the data on each row is. For example, a row where *Country Name* is *Albania* and the *Series Name* is *Bird species, threatened* contains the time series providing the number of threatened bird species in Albania.\n",
    "\n",
    "3) **Knowing the information above, how do you identify a certain time series X that you are interested in for country Y?** Easy: you loop over all rows, compare the value in the *Series Name* column to X and the value in the *Country Name* column to Y and, when you find a match (using an if statement), you know that you are looking at the correct row and that the data you want can be found in the columns named after years (*1960*, *1961*, ..., *2018*) in that same row.\n",
    "\n",
    "4) The information in the column *Country Name* and *Country Code* is equivalent, you can use either of these columns to identify the country a row refers to. The same applies to *Series Name* and *Series Code*: you can also either of these to identify the time series contained in a row. You are free to use whichever way of specifying a country and time series that you prefer.\n",
    "\n",
    "**IMPORTANT: You should *not* waste any time staring at the CSV file in Excel/Jupyter trying to manually locate the rows where any specific time series is found and then hard coding those values into your code! That will not get you full credit. Instead, you should write code that locates the relevant time series and uses that data to answer the questions! Point (3) above spells out exactly how to do so. :-)**\n",
    "\n",
    "\n",
    "Additionally, please keep in mind the following two techniques so that you can more easily answer the questions that follow:\n",
    "    \n",
    "**1) Missing values:**\n",
    "        \n",
    "In the datasets it makes available, the World Bank represents missing values as '..' (two periods). Therefore, whenever you look at a value in a time series you should first check it is not equal to the string '..'. If a value is different from '..', then you can assume it will be a number. \n",
    "                \n",
    "        \n",
    "**2) Accessing multiple columns for a certain row:**\n",
    "        \n",
    "In tabel, you can retrieve the values found in a certain row for a subset of columns by providing a list of column names inside the square brackets. Eg, to access the values for years (columns) 2014, 2015 and 2016 for row i and get them back in a 3-item list I would use:\n",
    "        \n",
    "            worldbank_data_tabel[i, ['2014', '2015', '2016'] ]\n",
    "        "
   ]
  },
  {
   "cell_type": "markdown",
   "metadata": {},
   "source": [
    "## Question 1\n",
    "\n",
    "Create a tabel object containing all the data found in the CSV file\n",
    "hw11-worldbank-data.csv."
   ]
  },
  {
   "cell_type": "code",
   "execution_count": 1,
   "metadata": {},
   "outputs": [],
   "source": [
    "#import pip\n",
    "#pip.main(['install', 'tabel'])"
   ]
  },
  {
   "cell_type": "code",
   "execution_count": 2,
   "metadata": {
    "scrolled": true
   },
   "outputs": [],
   "source": [
    "#Answer to Question 1.1\n",
    "import tabel\n",
    "filename = \"hw11-worldbank-data.csv\"\n",
    "wbank_table = tabel.read_tabel(filename)"
   ]
  },
  {
   "cell_type": "markdown",
   "metadata": {},
   "source": [
    "## Question 2\n",
    "\n",
    "For each country, the dataset contains three figures for literacy rate among adults: total, male and female. One way in which you can identify the rows containing these time series by comparing the \"Series Code\" value in a row to \"SE.ADT.LITR.ZS\" (total literacy rate), \"SE.ADT.LITR.MA.ZS\" (male literacy rate) and \"SE.ADT.LITR.FE.ZS\" (female literacy rate).\n",
    "\n",
    "\n",
    "    2.1) Print out the values for the male literacy rate for Spain from 2007 to 2016. (Your code should get the complete sequence of values using the technique described above under \"Accessing multiple columns for a certain row\" and then simply loop over that sequence, printing each of them.)\n",
    "\n",
    "    2.2) What is the *average* of the total literacy rate for Brazil over the period from 2007 to 2016 (inclusive)? (This time series contains a missing value for one of these years, as described above under \"Missing values\". Your answer should simply ignore that year and compute the average for the remaining years between 2007 and 2016.)\n",
    "\n",
    "    2.3) What is the *average* of the female literacy rates in the year 2010 when you consider the following three countries: Brazil, Turkey and Spain?\n",
    "\n",
    "**Note:** Question 2.2 asks you to compute the average for the values of the total literacy rate in a single country over several years. Question 2.3 asks you to compute the average of the female literacy rate values for several countries in a single year."
   ]
  },
  {
   "cell_type": "code",
   "execution_count": 3,
   "metadata": {},
   "outputs": [
    {
     "name": "stdout",
     "output_type": "stream",
     "text": [
      "('98.6334609985352', '98.4022979736328', '98.4619369506836', '98.5257110595703', '98.5361862182617', '98.6065292358398', '98.7487487792969', '98.7312698364258', '98.7708892822266', '98.8359680175781')\n"
     ]
    }
   ],
   "source": [
    "#Answer to Question 2.1\n",
    "country = \"Spain\"\n",
    "code = 'SE.ADT.LITR.MA.ZS'\n",
    "yr1 = 2007\n",
    "yrx = 2016\n",
    "\n",
    "yrs = []\n",
    "for i in list(range(yr1, yrx+1)):\n",
    "    yrs.append(str(i))\n",
    "    \n",
    "for i in range(len(wbank_table)):\n",
    "    if wbank_table[i, [\"Country Name\", \"Series Code\"]] == (country, code):\n",
    "                   print( wbank_table[i, yrs] )"
   ]
  },
  {
   "cell_type": "code",
   "execution_count": 4,
   "metadata": {},
   "outputs": [
    {
     "name": "stdout",
     "output_type": "stream",
     "text": [
      "90.97044881184895\n"
     ]
    }
   ],
   "source": [
    "#Answer to Question 2.2\n",
    "country = \"Brazil\"\n",
    "code = 'SE.ADT.LITR.ZS'\n",
    "yr1 = 2007\n",
    "yrx = 2016\n",
    "\n",
    "yrs = []\n",
    "for i in list(range(yr1, yrx+1)):\n",
    "    yrs.append(str(i))\n",
    "    \n",
    "lr = []    \n",
    "for i in range(len(wbank_table)):\n",
    "    if wbank_table[i, [\"Country Name\", \"Series Code\"]] == (country, code):\n",
    "        for x in list(wbank_table[i, yrs]):\n",
    "            if x != '..':\n",
    "                lr.append(float(x))\n",
    "lr_avg = sum(lr)/len(lr)\n",
    "print(lr_avg)"
   ]
  },
  {
   "cell_type": "code",
   "execution_count": 5,
   "metadata": {},
   "outputs": [
    {
     "name": "stdout",
     "output_type": "stream",
     "text": [
      "91.91979217529297\n"
     ]
    }
   ],
   "source": [
    "#Answer to Question 2.3\n",
    "countries = [\"Brazil\", \"Turkey\", \"Spain\"]\n",
    "code = 'SE.ADT.LITR.FE.ZS'\n",
    "yr = '2010'\n",
    "\n",
    "flr = []\n",
    "for i in range(len(wbank_table)):\n",
    "    for country in countries:\n",
    "        if wbank_table[i, [\"Country Name\", \"Series Code\"]] == (country, code):\n",
    "            flr.append(float(wbank_table[i, yr]))\n",
    "flr_avg = sum(flr)/len(flr)\n",
    "print(flr_avg)"
   ]
  },
  {
   "cell_type": "markdown",
   "metadata": {},
   "source": [
    "## Question 3\n",
    "\n",
    "3.1) For the year 2017 (this is the most recent year for which, as of Dec 3rd 2020, data is available in many of the World Bank time series), which were the 5 countries with the highest military expenditure as a percentage of GDP? Print their names and respective military expenditure as percentage of GDP.\n",
    "\n",
    "**Hint:** you can approach this question in multiple ways. One possibility is to sort all military expenditures in 2017, sorting it in decreasing order, determining the 5th largest value in that list, and then merely printing to the screen the names of countries that have a military expenditure equal or larger than that of the top 5. The only way in which you should **not** solve this question is by manually/visually identifying the 5 countries and then simply hard-coding their row numbers into your code.\n"
   ]
  },
  {
   "cell_type": "code",
   "execution_count": 7,
   "metadata": {},
   "outputs": [
    {
     "name": "stdout",
     "output_type": "stream",
     "text": [
      "('Algeria', '5.70823510813507')\n",
      "('Congo, Rep.', '6.16705319118021')\n",
      "('Kuwait', '5.7511657679889')\n",
      "('Oman', '12.0727196538761')\n",
      "('Saudi Arabia', '10.2886710302592')\n"
     ]
    }
   ],
   "source": [
    "#Answer to Question 3.1\n",
    "code = 'MS.MIL.XPND.GD.ZS'\n",
    "year = \"2017\"\n",
    "missing_val = '..'\n",
    "not_countries = ['Arab World', \"Middle East & North Africa\"]\n",
    "mlt_spd=[]\n",
    "\n",
    "for i in range(len(wbank_table)):\n",
    "    if wbank_table[i, \"Series Code\"] == code:\n",
    "        if (wbank_table[i, \"Country Name\"] in not_countries):\n",
    "            continue\n",
    "        elif (wbank_table[i, year] != missing_val): \n",
    "            mlt_spd.append(float(wbank_table[i, year]))\n",
    "mlt_spd.sort(reverse=True)\n",
    "for i in range(len(wbank_table)):\n",
    "    if wbank_table[i, \"Series Code\"] == code:\n",
    "        if (wbank_table[i, \"Country Name\"] in not_countries):\n",
    "            continue\n",
    "        elif (wbank_table[i, year] != missing_val):\n",
    "            if float(wbank_table[i, year]) >= mlt_spd[4]:\n",
    "                print(wbank_table[i, [\"Country Name\", year]])\n",
    "            \n",
    "#I see how this code is redundant; how would I write it so I don't have to repeat the conditions twice? Thanks!"
   ]
  },
  {
   "cell_type": "code",
   "execution_count": null,
   "metadata": {},
   "outputs": [],
   "source": []
  }
 ],
 "metadata": {
  "kernelspec": {
   "display_name": "Python 3",
   "language": "python",
   "name": "python3"
  },
  "language_info": {
   "codemirror_mode": {
    "name": "ipython",
    "version": 3
   },
   "file_extension": ".py",
   "mimetype": "text/x-python",
   "name": "python",
   "nbconvert_exporter": "python",
   "pygments_lexer": "ipython3",
   "version": "3.8.3"
  }
 },
 "nbformat": 4,
 "nbformat_minor": 4
}

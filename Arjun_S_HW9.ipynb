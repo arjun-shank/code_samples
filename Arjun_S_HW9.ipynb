{
 "cells": [
  {
   "cell_type": "markdown",
   "metadata": {},
   "source": [
    "# Homework #9\n",
    "\n",
    "In all the exercises that follow, insert your code directly in this file and immediately after each question.\n",
    "\n",
    "\n",
    "1. To the extent possible, **always use variables** in your answers.\n",
    "1. When a question provides a value for you to use in computations, **first store it in a variable and from that point onwards write code that makes use of that variable**. This is a good practice in programming: it allows you to write code that (except for the first couple of lines) is independent from the specific values provided to you. That makes it easy to update those external values later on if they ever change without having to modify your code, which is always an error-prone thing to do!\n",
    "1. Remember this is a programming course. :-) This means that the answers to all questions are meant to be **done in code** as much as possible. E.g., when a question reads \"*count the number of times that ...*\" you should interpret it as \"***write code that*** *counts the number of times that ...*\". Use your best judgment and you will do fine. :-)\n",
    "\n",
    "**Remember**: there are many ways to solve any programming assignment. If you wrote code that follows the instructions, uses variables (to the extent possible) and is valid Python code, you are entitled to full credit."
   ]
  },
  {
   "cell_type": "markdown",
   "metadata": {},
   "source": [
    "## Question 0\n",
    "\n",
    "Double-click on this cell and enter:\n",
    "\n",
    "**Your name:** Arjun Shankar\n",
    "\n",
    "**Your netID:** as11598"
   ]
  },
  {
   "cell_type": "markdown",
   "metadata": {},
   "source": [
    "## Intro\n",
    "\n",
    "In this assignment you will explore the Star Wars API. This is an open and free-to-use API that provides all information you could possibly need about Star Wars.\n",
    "\n",
    "You can read about the project on the page\n",
    "\n",
    "https://swapi.dev/about\n",
    "\n",
    "and access the technical documentation for the API on the page\n",
    "\n",
    "https://swapi.dev/documentation\n",
    "\n",
    "As mentioned in class this week, using an API requires that you get the relevant information from its documentation. This API has great documentation, so be sure to check it carefully. The documentation\n",
    "contains all the details you need to answer the questions below.\n",
    "\n",
    "**Please note:** you are not meant to use the Python bindings provided on the site. Instead, use the two modules we used in class (requests and json) to answer all questions below."
   ]
  },
  {
   "cell_type": "markdown",
   "metadata": {},
   "source": [
    "## Question 1\n",
    "\n",
    "**Each questions below is worth 2 points, Question 1 is worth 6 points in total.**\n",
    "\n",
    "**Hint: be sure to check the notes below before answering the questions**\n",
    "\n",
    "You can access information about 10 planets in Star Wars by sending a get request (without any parameters) to\n",
    "\n",
    "http://swapi.dev/api/planets/\n",
    "\n",
    "1.1) Using a for loop, print out the names of all 10 planets returned\n",
    "by that call.\n",
    "\n",
    "1.2) Write a function called get_planet_population that takes as an argument a string called 'planet_name'. You do **not** need to call/run your function in your answer, but you can do so as a way to test that it is working correctly. Your function should then return (note: *not* print):\n",
    "\n",
    "- the population of that planet *as a number*, if that planet is among the 10 planets listed in the data returned by an API call to http://swapi.dev/api/planets/ and the API lists its population; or\n",
    "   \n",
    "   \n",
    "- the special Python value None, if that planet is among the 10 planets listed in the data returned by an API call to http://swapi.dev/api/planets/ and the API tells you the population is 'unknown'.\n",
    "\n",
    "\n",
    "- the string \"unknown planet\", if that planet is not among the 10 planets listed in the data returned by an API call to http://swapi.dev/api/planets/.\n",
    "\n",
    "1.3) Print the names of all planets, from among the 10 planets returned by a call to http://swapi.dev/api/planets/, that have a population less than or equal to 30000000 and whose climate description includes the word 'temperate'.\n",
    "\n",
    "\n",
    "**Notes for Question 1.2:**\n",
    "\n",
    "    1) Your function should be case-insensitive in the way it handles planet_name and matches it against the planets available through that API call.\n",
    "    \n",
    "    2) The planet API supports a 'search' feature which you are not meant to use here. \n",
    "    \n",
    "    3) Please note None (no quotes) is a special Python value and different from the string 'None'. In the second scenario described above, your function should return that special Python value.\n",
    "\n",
    "\n",
    "**Notes for Question 1.3:**\n",
    "    \n",
    "    1) Please note that some planets have a population that is listed as 'unknown' and that string cannot be converted into a number. In your if statement you will have to handle that case (population == 'unknown') separately, otherwise you will get an error when you try to convert the population into a number. Obviously, planets with a 'unknown' population should not be listed by your code.\n",
    "    \n",
    "    2) Please note that the 'climate' for a planet often is a description containing multiple words. You merely have to check if 'temperate' is found in that string.\n"
   ]
  },
  {
   "cell_type": "code",
   "execution_count": 1,
   "metadata": {},
   "outputs": [
    {
     "name": "stdout",
     "output_type": "stream",
     "text": [
      "Tatooine\n",
      "Alderaan\n",
      "Yavin IV\n",
      "Hoth\n",
      "Dagobah\n",
      "Bespin\n",
      "Endor\n",
      "Naboo\n",
      "Coruscant\n",
      "Kamino\n"
     ]
    }
   ],
   "source": [
    "# Answer to Question 1.1\n",
    "import requests, json\n",
    "\n",
    "url = 'http://swapi.dev/api/planets/'\n",
    "response = requests.get(url)\n",
    "data = json.loads(response.text)\n",
    "\n",
    "for planet in data['results']:\n",
    "    print(planet['name'])"
   ]
  },
  {
   "cell_type": "code",
   "execution_count": 2,
   "metadata": {},
   "outputs": [
    {
     "data": {
      "text/plain": [
       "200000"
      ]
     },
     "execution_count": 2,
     "metadata": {},
     "output_type": "execute_result"
    }
   ],
   "source": [
    "# Answer to Question 1.2\n",
    "\n",
    "planet_name = 'TaToOine'\n",
    "\n",
    "def get_planet_population(planet_name):\n",
    "    \n",
    "    found_planet = False\n",
    "    planet_name_adj = planet_name.capitalize()\n",
    "    \n",
    "    for planet in data['results']:\n",
    "        if planet['name'] == planet_name_adj:\n",
    "            found_planet = True\n",
    "            if planet['population'] != 'unknown':\n",
    "                population = int(planet['population'])\n",
    "                \n",
    "            else:\n",
    "                population = None\n",
    "                \n",
    "    if found_planet == False:\n",
    "        population = 'unknown planet'\n",
    "\n",
    "    return(population)\n",
    "\n",
    "get_planet_population(planet_name)"
   ]
  },
  {
   "cell_type": "code",
   "execution_count": 3,
   "metadata": {},
   "outputs": [
    {
     "name": "stdout",
     "output_type": "stream",
     "text": [
      "Yavin IV\n",
      "Bespin\n",
      "Endor\n"
     ]
    }
   ],
   "source": [
    "# Answer to Question 1.3\n",
    "\n",
    "for planet in data['results']:\n",
    "    if planet['population'] != 'unknown':\n",
    "        if int(planet['population']) <= 30000000 and planet['climate'].find('temperate') != -1:\n",
    "            print(planet['name'])"
   ]
  },
  {
   "cell_type": "markdown",
   "metadata": {},
   "source": [
    "## Question 2\n",
    "\n",
    "**Each questions below is worth 2 points, Question 2 is worth 4 points in total.**\n",
    "\n",
    "In the previous question, you were only asked to use the 10 planets returned by a first call to the API at http://swapi.dev/api/planets/. However, this API lists information about many more planets. What happened was that SWAPI (both for planets as well as for any other type of information) only serves 10 results at a time and then expects your code to send additional requests for the rest of the data, which will be served in \"batches\" of 10 results at a time. This is very common behavior \"in the real world\", since it avoids needlessly wasting bandwidth and server resources.\n",
    "\n",
    "In this question you will use a **while loop** to issue requests for information about all starships in Star Wars. The API to use is located at\n",
    "\n",
    "http://swapi.dev/api/starships/\n",
    "\n",
    "Note that the data you get back is a dictionary that contains a key called 'next'. The value for that key is the URL to which you should send the next request using requests.get() to fetch the additional batch of information about the following 10 starships. \n",
    "\n",
    "2.1) Retrieve information about *all* starships available via this API and store it in a list called 'starships'.\n",
    "\n",
    "**Hint:** As mentioned above, the typical way to fetch all results from an API is to use a while loop that will retrieve a batch of 10 results, add them to a list (or similar data structure) and then send another request for more results *if the value for the key 'next' in the dictionary in the previous response contained a URL*. When you retrieve the final batch of results and no more results are available, the server will send you a dictionary that will probably still contain results you need to add to the list but the value for key 'next' will be None (rather than a URL). Therefore, one common strategy is to have your while loop end when the value for key 'next' == None. Notice that None is a special value in Python (like True or False) and is *not* surrounded in quotes!\n",
    "\n",
    "\n",
    "2.2) Print out the name of the fastest starship Star Wars. As indicated in the API documentation, speed is given by the MGLT (Maximum number of Megalights) attribute of a starship.  "
   ]
  },
  {
   "cell_type": "code",
   "execution_count": 4,
   "metadata": {},
   "outputs": [],
   "source": [
    "# Answer to Question 2.1\n",
    "import requests, json\n",
    "url = 'http://swapi.dev/api/starships/'\n",
    "response = requests.get(url)\n",
    "data = json.loads(response.text)\n",
    "starships = data['results']\n",
    "\n",
    "while data['next'] != None:\n",
    "    nextresponse = requests.get(data['next'])\n",
    "    nextdata = json.loads(nextresponse.text)\n",
    "    data = nextdata\n",
    "    starships.extend(data['results'])"
   ]
  },
  {
   "cell_type": "code",
   "execution_count": 5,
   "metadata": {},
   "outputs": [
    {
     "name": "stdout",
     "output_type": "stream",
     "text": [
      "A-wing\n"
     ]
    }
   ],
   "source": [
    "# Answer to Question 2.2\n",
    "MGLTlist = []\n",
    "for starship in starships: \n",
    "    if starship['MGLT'] != 'unknown':\n",
    "        MGLT = int(starship['MGLT'])\n",
    "        MGLTlist.append(MGLT)\n",
    "maxspeed = max(MGLTlist)\n",
    "for starship in starships:\n",
    "    if starship['MGLT'] != 'unknown':\n",
    "        if int(starship['MGLT']) == maxspeed:\n",
    "            print(starship['name'])"
   ]
  },
  {
   "cell_type": "code",
   "execution_count": null,
   "metadata": {},
   "outputs": [],
   "source": []
  }
 ],
 "metadata": {
  "kernelspec": {
   "display_name": "Python 3",
   "language": "python",
   "name": "python3"
  },
  "language_info": {
   "codemirror_mode": {
    "name": "ipython",
    "version": 3
   },
   "file_extension": ".py",
   "mimetype": "text/x-python",
   "name": "python",
   "nbconvert_exporter": "python",
   "pygments_lexer": "ipython3",
   "version": "3.8.3"
  }
 },
 "nbformat": 4,
 "nbformat_minor": 4
}
